{
 "cells": [
  {
   "cell_type": "code",
   "execution_count": 5,
   "metadata": {},
   "outputs": [],
   "source": [
    "import pandas as pd\n",
    "\n",
    "#turns off warning messages\n",
    "import warnings\n",
    "warnings.filterwarnings('ignore')"
   ]
  },
  {
   "cell_type": "code",
   "execution_count": null,
   "metadata": {},
   "outputs": [],
   "source": [
    "#TODO \n",
    "#read all 5 pages of the schdedule into a single pandas datadframe\n",
    "#figure out which are grad / undergrad\n",
    "#display the undergrad 12 am classes\n",
    "#display the undergrad tuesday classes \n"
   ]
  },
  {
   "cell_type": "code",
   "execution_count": 75,
   "metadata": {},
   "outputs": [],
   "source": [
    "def get_classes_from_website():\n",
    "    classes = pd.DataFrame()\n",
    "    #start @ 1 ends at 5 \n",
    "    for num in range(1, 6): \n",
    "        website = 'https://ischool.syr.edu/classes/?page=' + str(num)\n",
    "        datalist = pd.read_html(website)\n",
    "        classes = classes.append(datalist[0]) \n",
    "    return classes\n",
    "\n",
    "def engineer_grad_ugrad(classes):\n",
    "    classes = classes.head(5)\n",
    "    #take the last three courses and store into CourseNum column\n",
    "    classes['CourseNum'] = classes['Course'].str[3:]\n",
    "    classes['Type'] = 'None'\n",
    "    #takes current CourseNum as type int (initally a string) to compare whos grad(i.e G) or undergrad(i.e U)\n",
    "    classes['Type'][ classes['CourseNum'].astype(int) >= 500 ] = 'G'\n",
    "    classes['Type'][ classes['CourseNum'].astype(int) < 500 ] = 'U'\n",
    "    return classes\n"
   ]
  },
  {
   "cell_type": "code",
   "execution_count": 111,
   "metadata": {},
   "outputs": [
    {
     "name": "stdout",
     "output_type": "stream",
     "text": [
      "Do you want 12am classes or Tuesday classes? Enter 12 or T: 12\n"
     ]
    },
    {
     "data": {
      "text/html": [
       "<div>\n",
       "<style scoped>\n",
       "    .dataframe tbody tr th:only-of-type {\n",
       "        vertical-align: middle;\n",
       "    }\n",
       "\n",
       "    .dataframe tbody tr th {\n",
       "        vertical-align: top;\n",
       "    }\n",
       "\n",
       "    .dataframe thead th {\n",
       "        text-align: right;\n",
       "    }\n",
       "</style>\n",
       "<table border=\"1\" class=\"dataframe\">\n",
       "  <thead>\n",
       "    <tr style=\"text-align: right;\">\n",
       "      <th></th>\n",
       "      <th>Course</th>\n",
       "      <th>Section</th>\n",
       "      <th>Class</th>\n",
       "      <th>Credits</th>\n",
       "      <th>Title</th>\n",
       "      <th>Instructor(s)</th>\n",
       "      <th>Time</th>\n",
       "      <th>Day</th>\n",
       "      <th>Room(s)</th>\n",
       "      <th>CourseNum</th>\n",
       "      <th>Type</th>\n",
       "    </tr>\n",
       "  </thead>\n",
       "  <tbody>\n",
       "    <tr>\n",
       "      <td>1</td>\n",
       "      <td>GET460</td>\n",
       "      <td>M001</td>\n",
       "      <td>37855</td>\n",
       "      <td>3.0</td>\n",
       "      <td>Global Technology Abroad</td>\n",
       "      <td>Michael Fudge</td>\n",
       "      <td>12:00am - 12:00am</td>\n",
       "      <td>NaN</td>\n",
       "      <td>NaN</td>\n",
       "      <td>460</td>\n",
       "      <td>U</td>\n",
       "    </tr>\n",
       "    <tr>\n",
       "      <td>2</td>\n",
       "      <td>GET460</td>\n",
       "      <td>M002</td>\n",
       "      <td>41825</td>\n",
       "      <td>3.0</td>\n",
       "      <td>Global Technology Abroad</td>\n",
       "      <td>Paul Brian Gandel</td>\n",
       "      <td>12:00am - 12:00am</td>\n",
       "      <td>NaN</td>\n",
       "      <td>NaN</td>\n",
       "      <td>460</td>\n",
       "      <td>U</td>\n",
       "    </tr>\n",
       "  </tbody>\n",
       "</table>\n",
       "</div>"
      ],
      "text/plain": [
       "   Course Section  Class  Credits                     Title  \\\n",
       "1  GET460    M001  37855      3.0  Global Technology Abroad   \n",
       "2  GET460    M002  41825      3.0  Global Technology Abroad   \n",
       "\n",
       "       Instructor(s)               Time  Day Room(s) CourseNum Type  \n",
       "1      Michael Fudge  12:00am - 12:00am  NaN     NaN       460    U  \n",
       "2  Paul Brian Gandel  12:00am - 12:00am  NaN     NaN       460    U  "
      ]
     },
     "execution_count": 111,
     "metadata": {},
     "output_type": "execute_result"
    }
   ],
   "source": [
    "df = \"\"\n",
    "classes = get_classes_from_website()\n",
    "classes = engineer_grad_ugrad(classes)\n",
    "ugrad = classes[ classes['Type'] =='U' ]\n",
    "choice = input(\"Do you want 12am classes or Tuesday classes? Enter 12 or T: \").upper()\n",
    "if choice == \"12\":\n",
    "    df = ugrad[ ugrad['Time'].str.find(\"12:00am\")>=0]\n",
    "elif choice == 'T': \n",
    "    df = ugrad[ ugrad['Day'].str.find(\"Tu\")>=0]\n",
    "else: \n",
    "    print(\"Please read the instructions\")\n",
    "    \n",
    "df"
   ]
  },
  {
   "cell_type": "code",
   "execution_count": 99,
   "metadata": {},
   "outputs": [
    {
     "data": {
      "text/html": [
       "<div>\n",
       "<style scoped>\n",
       "    .dataframe tbody tr th:only-of-type {\n",
       "        vertical-align: middle;\n",
       "    }\n",
       "\n",
       "    .dataframe tbody tr th {\n",
       "        vertical-align: top;\n",
       "    }\n",
       "\n",
       "    .dataframe thead th {\n",
       "        text-align: right;\n",
       "    }\n",
       "</style>\n",
       "<table border=\"1\" class=\"dataframe\">\n",
       "  <thead>\n",
       "    <tr style=\"text-align: right;\">\n",
       "      <th></th>\n",
       "      <th>Course</th>\n",
       "      <th>Section</th>\n",
       "      <th>Class</th>\n",
       "      <th>Credits</th>\n",
       "      <th>Title</th>\n",
       "      <th>Instructor(s)</th>\n",
       "      <th>Time</th>\n",
       "      <th>Day</th>\n",
       "      <th>Room(s)</th>\n",
       "      <th>CourseNum</th>\n",
       "      <th>Type</th>\n",
       "    </tr>\n",
       "  </thead>\n",
       "  <tbody>\n",
       "    <tr>\n",
       "      <td>1</td>\n",
       "      <td>GET460</td>\n",
       "      <td>M001</td>\n",
       "      <td>37855</td>\n",
       "      <td>3.0</td>\n",
       "      <td>Global Technology Abroad</td>\n",
       "      <td>Michael Fudge</td>\n",
       "      <td>12:00am - 12:00am</td>\n",
       "      <td>NaN</td>\n",
       "      <td>NaN</td>\n",
       "      <td>460</td>\n",
       "      <td>U</td>\n",
       "    </tr>\n",
       "    <tr>\n",
       "      <td>2</td>\n",
       "      <td>GET460</td>\n",
       "      <td>M002</td>\n",
       "      <td>41825</td>\n",
       "      <td>3.0</td>\n",
       "      <td>Global Technology Abroad</td>\n",
       "      <td>Paul Brian Gandel</td>\n",
       "      <td>12:00am - 12:00am</td>\n",
       "      <td>NaN</td>\n",
       "      <td>NaN</td>\n",
       "      <td>460</td>\n",
       "      <td>U</td>\n",
       "    </tr>\n",
       "  </tbody>\n",
       "</table>\n",
       "</div>"
      ],
      "text/plain": [
       "   Course Section  Class  Credits                     Title  \\\n",
       "1  GET460    M001  37855      3.0  Global Technology Abroad   \n",
       "2  GET460    M002  41825      3.0  Global Technology Abroad   \n",
       "\n",
       "       Instructor(s)               Time  Day Room(s) CourseNum Type  \n",
       "1      Michael Fudge  12:00am - 12:00am  NaN     NaN       460    U  \n",
       "2  Paul Brian Gandel  12:00am - 12:00am  NaN     NaN       460    U  "
      ]
     },
     "execution_count": 99,
     "metadata": {},
     "output_type": "execute_result"
    }
   ],
   "source": [
    "twelve_am"
   ]
  },
  {
   "cell_type": "code",
   "execution_count": 100,
   "metadata": {},
   "outputs": [
    {
     "data": {
      "text/html": [
       "<div>\n",
       "<style scoped>\n",
       "    .dataframe tbody tr th:only-of-type {\n",
       "        vertical-align: middle;\n",
       "    }\n",
       "\n",
       "    .dataframe tbody tr th {\n",
       "        vertical-align: top;\n",
       "    }\n",
       "\n",
       "    .dataframe thead th {\n",
       "        text-align: right;\n",
       "    }\n",
       "</style>\n",
       "<table border=\"1\" class=\"dataframe\">\n",
       "  <thead>\n",
       "    <tr style=\"text-align: right;\">\n",
       "      <th></th>\n",
       "      <th>Course</th>\n",
       "      <th>Section</th>\n",
       "      <th>Class</th>\n",
       "      <th>Credits</th>\n",
       "      <th>Title</th>\n",
       "      <th>Instructor(s)</th>\n",
       "      <th>Time</th>\n",
       "      <th>Day</th>\n",
       "      <th>Room(s)</th>\n",
       "      <th>CourseNum</th>\n",
       "      <th>Type</th>\n",
       "    </tr>\n",
       "  </thead>\n",
       "  <tbody>\n",
       "    <tr>\n",
       "      <td>0</td>\n",
       "      <td>GET302</td>\n",
       "      <td>M001</td>\n",
       "      <td>37675</td>\n",
       "      <td>3.0</td>\n",
       "      <td>Global Financial Sys Arch</td>\n",
       "      <td>vcschoon</td>\n",
       "      <td>5:00pm - 7:45pm</td>\n",
       "      <td>Tu</td>\n",
       "      <td>Hinds Hall 011</td>\n",
       "      <td>302</td>\n",
       "      <td>U</td>\n",
       "    </tr>\n",
       "  </tbody>\n",
       "</table>\n",
       "</div>"
      ],
      "text/plain": [
       "   Course Section  Class  Credits                      Title Instructor(s)  \\\n",
       "0  GET302    M001  37675      3.0  Global Financial Sys Arch      vcschoon   \n",
       "\n",
       "              Time Day         Room(s) CourseNum Type  \n",
       "0  5:00pm - 7:45pm  Tu  Hinds Hall 011       302    U  "
      ]
     },
     "execution_count": 100,
     "metadata": {},
     "output_type": "execute_result"
    }
   ],
   "source": [
    "tuesday"
   ]
  }
 ],
 "metadata": {
  "kernelspec": {
   "display_name": "Python 3",
   "language": "python",
   "name": "python3"
  },
  "language_info": {
   "codemirror_mode": {
    "name": "ipython",
    "version": 3
   },
   "file_extension": ".py",
   "mimetype": "text/x-python",
   "name": "python",
   "nbconvert_exporter": "python",
   "pygments_lexer": "ipython3",
   "version": "3.7.4"
  }
 },
 "nbformat": 4,
 "nbformat_minor": 2
}
